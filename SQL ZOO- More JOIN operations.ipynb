{
 "cells": [
  {
   "cell_type": "markdown",
   "metadata": {},
   "source": [
    "## SQL ZOO- More JOIN operations"
   ]
  },
  {
   "cell_type": "markdown",
   "metadata": {},
   "source": [
    "Link: http://sqlzoo.net/wiki/More_JOIN_operations"
   ]
  },
  {
   "cell_type": "markdown",
   "metadata": {},
   "source": [
    "List the films where the yr is 1962 [Show id, title]"
   ]
  },
  {
   "cell_type": "code",
   "execution_count": null,
   "metadata": {},
   "outputs": [],
   "source": [
    "SELECT id, title FROM movie\n",
    "WHERE yr=1962"
   ]
  },
  {
   "cell_type": "markdown",
   "metadata": {},
   "source": [
    "Give year of 'Citizen Kane'."
   ]
  },
  {
   "cell_type": "code",
   "execution_count": null,
   "metadata": {},
   "outputs": [],
   "source": [
    "SELECT yr FROM movie\n",
    "WHERE title = 'Citizen Kane'"
   ]
  },
  {
   "cell_type": "markdown",
   "metadata": {},
   "source": [
    "List all of the Star Trek movies, include the id, title and yr (all of these movies include the words Star Trek in the title). Order results by year."
   ]
  },
  {
   "cell_type": "code",
   "execution_count": null,
   "metadata": {},
   "outputs": [],
   "source": [
    "SELECT id, title, yr FROM movie\n",
    "WHERE title LIKE 'Star Trek%'"
   ]
  },
  {
   "cell_type": "markdown",
   "metadata": {},
   "source": [
    "What id number does the actor 'Glenn Close' have?"
   ]
  },
  {
   "cell_type": "code",
   "execution_count": null,
   "metadata": {},
   "outputs": [],
   "source": [
    "SELECT id FROM actor\n",
    "WHERE name = 'Glenn Close'"
   ]
  },
  {
   "cell_type": "markdown",
   "metadata": {},
   "source": [
    "What is the id of the film 'Casablanca'"
   ]
  },
  {
   "cell_type": "code",
   "execution_count": null,
   "metadata": {},
   "outputs": [],
   "source": [
    "SELECT id FROM movie\n",
    "WHERE title = 'Casablanca'"
   ]
  },
  {
   "cell_type": "markdown",
   "metadata": {},
   "source": [
    "Obtain the cast list for 'Casablanca'.\n",
    "\n",
    "what is a cast list?\n",
    "Use movieid=11768, (or whatever value you got from the previous question)"
   ]
  },
  {
   "cell_type": "code",
   "execution_count": null,
   "metadata": {},
   "outputs": [],
   "source": [
    "SELECT name FROM actor\n",
    "JOIN casting ON (actor.id = casting.actorid)\n",
    "WHERE movieid = 11768"
   ]
  },
  {
   "cell_type": "markdown",
   "metadata": {},
   "source": [
    "Obtain the cast list for the film 'Alien'"
   ]
  },
  {
   "cell_type": "code",
   "execution_count": null,
   "metadata": {},
   "outputs": [],
   "source": [
    "SELECT name FROM actor\n",
    "JOIN casting ON (casting.actorid=actor.id)\n",
    "JOIN movie ON (casting.movieid=movie.id)\n",
    "WHERE title = 'Alien'"
   ]
  },
  {
   "cell_type": "markdown",
   "metadata": {},
   "source": [
    "List the films in which 'Harrison Ford' has appeared"
   ]
  },
  {
   "cell_type": "code",
   "execution_count": null,
   "metadata": {},
   "outputs": [],
   "source": [
    "SELECT title FROM movie\n",
    "JOIN casting ON (movie.id = casting.movieid)\n",
    "JOIN actor ON (casting.actorid = actor.id)\n",
    "WHERE name = 'Harrison Ford'"
   ]
  },
  {
   "cell_type": "markdown",
   "metadata": {},
   "source": [
    "List the films where 'Harrison Ford' has appeared - but not in the starring role. [Note: the ord field of casting gives the position of the actor. If ord=1 then this actor is in the starring role]"
   ]
  },
  {
   "cell_type": "code",
   "execution_count": null,
   "metadata": {},
   "outputs": [],
   "source": [
    "SELECT title FROM movie\n",
    "JOIN casting ON (movie.id = casting.movieid)\n",
    "JOIN actor ON (casting.actorid = actor.id)\n",
    "WHERE name = 'Harrison Ford' and ord !=1"
   ]
  },
  {
   "cell_type": "markdown",
   "metadata": {},
   "source": [
    "List the films together with the leading star for all 1962 films."
   ]
  },
  {
   "cell_type": "code",
   "execution_count": null,
   "metadata": {},
   "outputs": [],
   "source": [
    "SELECT title, name FROM movie\n",
    "JOIN casting ON (movie.id = casting.movieid)\n",
    "JOIN actor ON (casting.actorid = actor.id)\n",
    "WHERE yr = 1962 and ord =1"
   ]
  },
  {
   "cell_type": "markdown",
   "metadata": {},
   "source": [
    "Which were the busiest years for 'John Travolta', show the year and the number of movies he made each year for any year in which he made more than 2 movies."
   ]
  },
  {
   "cell_type": "code",
   "execution_count": null,
   "metadata": {},
   "outputs": [],
   "source": [
    "SELECT yr,COUNT(title) FROM movie \n",
    "JOIN casting ON movie.id=movieid\n",
    "JOIN actor   ON actorid=actor.id\n",
    "WHERE name='John Travolta'\n",
    "GROUP BY yr\n",
    "HAVING COUNT(title)=(SELECT MAX(x) FROM (SELECT yr,COUNT(title) AS x FROM movie \n",
    "JOIN casting ON movie.id=movieid\n",
    "JOIN actor   ON actorid=actor.id\n",
    "WHERE name='John Travolta'\n",
    "GROUP BY yr) AS y)"
   ]
  },
  {
   "cell_type": "markdown",
   "metadata": {},
   "source": [
    "List the film title and the leading actor for all of the films 'Julie Andrews' played in."
   ]
  },
  {
   "cell_type": "code",
   "execution_count": null,
   "metadata": {},
   "outputs": [],
   "source": [
    "SELECT title, name FROM movie\n",
    "JOIN casting ON (movie.id = casting.movieid)\n",
    "JOIN actor ON (casting.actorid = actor.id)\n",
    "WHERE  ord = 1 AND movie.id IN (SELECT movieid FROM casting\n",
    "JOIN actor on (casting.actorid = actor.id)\n",
    "JOIN movie on (casting.movieid = movie.id)\n",
    "WHERE name = 'Julie Andrews')"
   ]
  },
  {
   "cell_type": "markdown",
   "metadata": {},
   "source": [
    "Obtain a list, in alphabetical order, of actors who've had at least 30 starring roles."
   ]
  },
  {
   "cell_type": "code",
   "execution_count": null,
   "metadata": {},
   "outputs": [],
   "source": [
    "SELECT name FROM actor\n",
    "JOIN casting ON (actor.id = casting.actorid)\n",
    "WHERE ord = 1\n",
    "GROUP BY name\n",
    "HAVING COUNT(ord = 1) >= 30 \n",
    "ORDER BY name"
   ]
  },
  {
   "cell_type": "markdown",
   "metadata": {},
   "source": [
    "List the films released in the year 1978 ordered by the number of actors in the cast, then by title."
   ]
  },
  {
   "cell_type": "code",
   "execution_count": null,
   "metadata": {},
   "outputs": [],
   "source": [
    "SELECT title, COUNT(name) AS Number_of_actor FROM movie\n",
    "JOIN casting ON (movie.id = casting.movieid)\n",
    "JOIN actor ON (casting.actorid = actor.id)\n",
    "WHERE yr = 1978\n",
    "GROUP BY title\n",
    "ORDER BY COUNT(name) DESC, title"
   ]
  },
  {
   "cell_type": "markdown",
   "metadata": {},
   "source": [
    "List all the people who have worked with 'Art Garfunkel'"
   ]
  },
  {
   "cell_type": "code",
   "execution_count": null,
   "metadata": {},
   "outputs": [],
   "source": [
    "SELECT a.name\n",
    "  FROM (SELECT movie.*\n",
    "          FROM movie\n",
    "          JOIN casting\n",
    "            ON casting.movieid = movie.id\n",
    "          JOIN actor\n",
    "            ON actor.id = casting.actorid\n",
    "         WHERE actor.name = 'Art Garfunkel') AS m"
   ]
  }
 ],
 "metadata": {
  "kernelspec": {
   "display_name": "Python 2",
   "language": "python",
   "name": "python2"
  },
  "language_info": {
   "codemirror_mode": {
    "name": "ipython",
    "version": 2
   },
   "file_extension": ".py",
   "mimetype": "text/x-python",
   "name": "python",
   "nbconvert_exporter": "python",
   "pygments_lexer": "ipython2",
   "version": "2.7.14"
  }
 },
 "nbformat": 4,
 "nbformat_minor": 2
}
