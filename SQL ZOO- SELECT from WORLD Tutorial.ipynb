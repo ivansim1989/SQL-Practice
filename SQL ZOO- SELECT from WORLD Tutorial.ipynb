{
 "cells": [
  {
   "cell_type": "markdown",
   "metadata": {},
   "source": [
    "## SQL ZOO- SELECT from WORLD Tutorial"
   ]
  },
  {
   "cell_type": "markdown",
   "metadata": {},
   "source": [
    "Link: http://sqlzoo.net/wiki/SELECT_from_WORLD_Tutorial"
   ]
  },
  {
   "cell_type": "markdown",
   "metadata": {},
   "source": [
    "Read the notes about this table. Observe the result of running this SQL command to show the name, continent and population of all countries."
   ]
  },
  {
   "cell_type": "code",
   "execution_count": null,
   "metadata": {},
   "outputs": [],
   "source": [
    "SELECT name, continent, population FROM world"
   ]
  },
  {
   "cell_type": "markdown",
   "metadata": {},
   "source": [
    "How to use WHERE to filter records. Show the name for the countries that have a population of at least 200 million. 200 million is 200000000, there are eight zeros."
   ]
  },
  {
   "cell_type": "code",
   "execution_count": null,
   "metadata": {},
   "outputs": [],
   "source": [
    "SELECT name FROM world\n",
    "WHERE population >= 200000000"
   ]
  },
  {
   "cell_type": "markdown",
   "metadata": {},
   "source": [
    "Give the name and the per capita GDP for those countries with a population of at least 200 million.\n",
    "\n",
    "HELP:How to calculate per capita GDP"
   ]
  },
  {
   "cell_type": "code",
   "execution_count": null,
   "metadata": {},
   "outputs": [],
   "source": [
    "SELECT name, gdp/population AS per_capita_GDP FROM world\n",
    "WHERE population >= 200000000"
   ]
  },
  {
   "cell_type": "markdown",
   "metadata": {},
   "source": [
    "Show the name and population in millions for the countries of the continent 'South America'. Divide the population by 1000000 to get population in millions."
   ]
  },
  {
   "cell_type": "code",
   "execution_count": null,
   "metadata": {},
   "outputs": [],
   "source": [
    "SELECT name, population/1000000 AS Poplation_in_millions FROM world\n",
    "WHERE continent = 'South America'"
   ]
  },
  {
   "cell_type": "markdown",
   "metadata": {},
   "source": [
    "Show the name and population for France, Germany, Italy"
   ]
  },
  {
   "cell_type": "code",
   "execution_count": null,
   "metadata": {},
   "outputs": [],
   "source": [
    "SELECT name, population FROM world\n",
    "WHERE name IN  ('France', 'Germany', 'Italy')"
   ]
  },
  {
   "cell_type": "markdown",
   "metadata": {},
   "source": [
    "Show the countries which have a name that includes the word 'United'"
   ]
  },
  {
   "cell_type": "code",
   "execution_count": null,
   "metadata": {},
   "outputs": [],
   "source": [
    "SELECT name FROM world\n",
    "WHERE name LIKE '%United%'"
   ]
  },
  {
   "cell_type": "markdown",
   "metadata": {},
   "source": [
    "Two ways to be big: A country is big if it has an area of more than 3 million sq km or it has a population of more than 250 million.\n",
    "\n",
    "Show the countries that are big by area or big by population. Show name, population and area."
   ]
  },
  {
   "cell_type": "code",
   "execution_count": null,
   "metadata": {},
   "outputs": [],
   "source": [
    "SELECT name, population, area FROM world\n",
    "WHERE area > 3000000 OR population >= 250000000"
   ]
  },
  {
   "cell_type": "markdown",
   "metadata": {},
   "source": [
    "Exclusive OR (XOR). Show the countries that are big by area or big by population but not both. Show name, population and area.\n",
    "\n",
    "Australia has a big area but a small population, it should be included.\n",
    "Indonesia has a big population but a small area, it should be included.\n",
    "China has a big population and big area, it should be excluded.\n",
    "United Kingdom has a small population and a small area, it should be excluded."
   ]
  },
  {
   "cell_type": "code",
   "execution_count": null,
   "metadata": {},
   "outputs": [],
   "source": [
    "SELECT name, population, area FROM world\n",
    "WHERE population > 250000000 XOR area > 3000000"
   ]
  },
  {
   "cell_type": "markdown",
   "metadata": {},
   "source": [
    "Show the name and population in millions and the GDP in billions for the countries of the continent 'South America'. Use the ROUND function to show the values to two decimal places.\n",
    "\n",
    "For South America show population in millions and GDP in billions both to 2 decimal places."
   ]
  },
  {
   "cell_type": "code",
   "execution_count": null,
   "metadata": {},
   "outputs": [],
   "source": [
    "SELECT name, ROUND(population/1000000,2) AS poplation_in_millions, ROUND(gdp/1000000000, 2) AS gdp_in_billions FROM world\n",
    "WHERE continent = 'South America'"
   ]
  },
  {
   "cell_type": "markdown",
   "metadata": {},
   "source": [
    "Show the name and per-capita GDP for those countries with a GDP of at least one trillion (1000000000000; that is 12 zeros). Round this value to the nearest 1000.\n",
    "\n",
    "Show per-capita GDP for the trillion dollar countries to the nearest $1000."
   ]
  },
  {
   "cell_type": "code",
   "execution_count": null,
   "metadata": {},
   "outputs": [],
   "source": [
    "SELECT name, ROUND(gdp/population/1000)*1000 FROM world\n",
    "WHERE gdp >= 1000000000000"
   ]
  },
  {
   "cell_type": "markdown",
   "metadata": {},
   "source": [
    "Greece has capital Athens.\n",
    "\n",
    "Each of the strings 'Greece', and 'Athens' has 6 characters.\n",
    "\n",
    "Show the name and capital where the name and the capital have the same number of characters.\n",
    "\n",
    "You can use the LENGTH function to find the number of characters in a string"
   ]
  },
  {
   "cell_type": "code",
   "execution_count": null,
   "metadata": {},
   "outputs": [],
   "source": [
    "SELECT name, capital FROM world\n",
    "WHERE LENGTH(name) = LENGTH(capital)"
   ]
  },
  {
   "cell_type": "markdown",
   "metadata": {},
   "source": [
    "The capital of Sweden is Stockholm. Both words start with the letter 'S'.\n",
    "\n",
    "Show the name and the capital where the first letters of each match. Don't include countries where the name and the capital are the same word.\n",
    "You can use the function LEFT to isolate the first character.\n",
    "You can use <> as the NOT EQUALS operator."
   ]
  },
  {
   "cell_type": "code",
   "execution_count": null,
   "metadata": {},
   "outputs": [],
   "source": [
    "SELECT name, capital FROM world\n",
    "WHERE LEFT(name, 1) = LEFT(capital, 1) and name != capital"
   ]
  },
  {
   "cell_type": "markdown",
   "metadata": {},
   "source": [
    "Equatorial Guinea and Dominican Republic have all of the vowels (a e i o u) in the name. They don't count because they have more than one word in the name.\n",
    "\n",
    "Find the country that has all the vowels and no spaces in its name.\n",
    "\n",
    "You can use the phrase name NOT LIKE '%a%' to exclude characters from your results.\n",
    "The query shown misses countries like Bahamas and Belarus because they contain at least one 'a'"
   ]
  },
  {
   "cell_type": "code",
   "execution_count": null,
   "metadata": {},
   "outputs": [],
   "source": [
    "SELECT name FROM world\n",
    "WHERE name LIKE '%a%'\n",
    "AND name LIKE '%e%'\n",
    "AND name LIKE '%i%'\n",
    "AND name LIKE '%o%'\n",
    "AND name LIKE '%u%'\n",
    "AND name NOT LIKE '% %'"
   ]
  }
 ],
 "metadata": {
  "kernelspec": {
   "display_name": "Python 2",
   "language": "python",
   "name": "python2"
  },
  "language_info": {
   "codemirror_mode": {
    "name": "ipython",
    "version": 2
   },
   "file_extension": ".py",
   "mimetype": "text/x-python",
   "name": "python",
   "nbconvert_exporter": "python",
   "pygments_lexer": "ipython2",
   "version": "2.7.14"
  }
 },
 "nbformat": 4,
 "nbformat_minor": 2
}
