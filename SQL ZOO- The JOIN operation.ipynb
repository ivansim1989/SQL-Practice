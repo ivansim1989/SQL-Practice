{
 "cells": [
  {
   "cell_type": "markdown",
   "metadata": {},
   "source": [
    "## SQL ZOO- The JOIN operation"
   ]
  },
  {
   "cell_type": "markdown",
   "metadata": {},
   "source": [
    "Link: http://sqlzoo.net/wiki/The_JOIN_operation"
   ]
  },
  {
   "cell_type": "markdown",
   "metadata": {},
   "source": [
    "The first example shows the goal scored by a player with the last name 'Bender'. The * says to list all the columns in the table - a shorter way of saying matchid, teamid, player, gtime\n",
    "\n",
    "Modify it to show the matchid and player name for all goals scored by Germany. To identify German players, check for: teamid = 'GER'"
   ]
  },
  {
   "cell_type": "code",
   "execution_count": null,
   "metadata": {},
   "outputs": [],
   "source": [
    "SELECT matchid, player FROM goal \n",
    "WHERE teamid = 'GER'"
   ]
  },
  {
   "cell_type": "markdown",
   "metadata": {},
   "source": [
    "From the previous query you can see that Lars Bender's scored a goal in game 1012. Now we want to know what teams were playing in that match.\n",
    "\n",
    "Notice in the that the column matchid in the goal table corresponds to the id column in the game table. We can look up information about game 1012 by finding that row in the game table.\n",
    "\n",
    "Show id, stadium, team1, team2 for just game 1012"
   ]
  },
  {
   "cell_type": "code",
   "execution_count": null,
   "metadata": {},
   "outputs": [],
   "source": [
    "SELECT id,stadium,team1,team2 FROM game\n",
    "WHERE id = 1012"
   ]
  },
  {
   "cell_type": "markdown",
   "metadata": {},
   "source": [
    "You can combine the two steps into a single query with a JOIN.\n",
    "\n",
    "SELECT *\n",
    "  FROM game JOIN goal ON (id=matchid)\n",
    "\n",
    "The FROM clause says to merge data from the goal table with that from the game table. The ON says how to figure out which rows in game go with which rows in goal - the matchid from goal must match id from game. (If we wanted to be more clear/specific we could say \n",
    "ON (game.id=goal.matchid)\n",
    "\n",
    "The code below shows the player (from the goal) and stadium name (from the game table) for every goal scored.\n",
    "\n",
    "Modify it to show the player, teamid, stadium and mdate for every German goal."
   ]
  },
  {
   "cell_type": "code",
   "execution_count": null,
   "metadata": {},
   "outputs": [],
   "source": [
    "SELECT player, teamid, stadium, mdate FROM game\n",
    "JOIN goal ON (id= matchid)\n",
    "WHERE teamid = 'GER'"
   ]
  },
  {
   "cell_type": "markdown",
   "metadata": {},
   "source": [
    "Use the same JOIN as in the previous question.\n",
    "\n",
    "Show the team1, team2 and player for every goal scored by a player called Mario player LIKE 'Mario%'"
   ]
  },
  {
   "cell_type": "code",
   "execution_count": null,
   "metadata": {},
   "outputs": [],
   "source": [
    "SELECT team1, team2, player FROM game\n",
    "JOIN goal on (matchid = id)\n",
    "WHERE player like 'Mario%'"
   ]
  },
  {
   "cell_type": "markdown",
   "metadata": {},
   "source": [
    "The table eteam gives details of every national team including the coach. You can JOIN goal to eteam using the phrase goal JOIN eteam on teamid=id\n",
    "\n",
    "Show player, teamid, coach, gtime for all goals scored in the first 10 minutes gtime<=10"
   ]
  },
  {
   "cell_type": "code",
   "execution_count": null,
   "metadata": {},
   "outputs": [],
   "source": [
    "SELECT player, teamid, coach, gtime FROM game\n",
    "JOIN goal on (goal.matchid = game.id)\n",
    "JOIN eteam on (goal.teamid = eteam.id)\n",
    "WHERE gtime<=10"
   ]
  },
  {
   "cell_type": "markdown",
   "metadata": {},
   "source": [
    "To JOIN game with eteam you could use either\n",
    "game JOIN eteam ON (team1=eteam.id) or game JOIN eteam ON (team2=eteam.id)\n",
    "\n",
    "Notice that because id is a column name in both game and eteam you must specify eteam.id instead of just id\n",
    "\n",
    "List the the dates of the matches and the name of the team in which 'Fernando Santos' was the team1 coach."
   ]
  },
  {
   "cell_type": "code",
   "execution_count": null,
   "metadata": {},
   "outputs": [],
   "source": [
    "SELECT mdate, teamname FROM game\n",
    "JOIN eteam on (game.team1 = eteam.id)\n",
    "WHERE coach = 'Fernando Santos'"
   ]
  },
  {
   "cell_type": "markdown",
   "metadata": {},
   "source": [
    "List the player for every goal scored in a game where the stadium was 'National Stadium, Warsaw'"
   ]
  },
  {
   "cell_type": "code",
   "execution_count": null,
   "metadata": {},
   "outputs": [],
   "source": [
    "SELECT player FROM goal\n",
    "JOIN game on (goal.matchid = game.id)\n",
    "WHERE gtime >0 AND stadium = 'National Stadium, Warsaw'"
   ]
  },
  {
   "cell_type": "markdown",
   "metadata": {},
   "source": [
    "The example query shows all goals scored in the Germany-Greece quarterfinal.\n",
    "Instead show the name of all players who scored a goal against Germany."
   ]
  },
  {
   "cell_type": "code",
   "execution_count": null,
   "metadata": {},
   "outputs": [],
   "source": [
    "SELECT DISTINCT(player) FROM game \n",
    "JOIN goal ON matchid = id \n",
    "WHERE teamid != 'GER' AND (team1='GER' OR team2='GER')"
   ]
  },
  {
   "cell_type": "markdown",
   "metadata": {},
   "source": [
    "Show teamname and the total number of goals scored."
   ]
  },
  {
   "cell_type": "code",
   "execution_count": null,
   "metadata": {},
   "outputs": [],
   "source": [
    "SELECT teamname, COUNT(gtime>0) AS goal from eteam\n",
    "JOIN goal ON (teamid = id)\n",
    "GROUP BY teamname"
   ]
  },
  {
   "cell_type": "markdown",
   "metadata": {},
   "source": [
    "Show the stadium and the number of goals scored in each stadium."
   ]
  },
  {
   "cell_type": "code",
   "execution_count": null,
   "metadata": {},
   "outputs": [],
   "source": [
    "SELECT stadium, COUNT(gtime>0) AS goal from game\n",
    "JOIN goal ON (matchid = id)\n",
    "GROUP BY stadium"
   ]
  },
  {
   "cell_type": "markdown",
   "metadata": {},
   "source": [
    "For every match involving 'POL', show the matchid, date and the number of goals scored."
   ]
  },
  {
   "cell_type": "code",
   "execution_count": null,
   "metadata": {},
   "outputs": [],
   "source": [
    "SELECT matchid, mdate, COUNT(gtime>0) AS goal from game\n",
    "JOIN goal ON (matchid = id)\n",
    "WHERE team1 = 'POL' or team2 = 'POL'\n",
    "GROUP BY matchid, mdate"
   ]
  },
  {
   "cell_type": "markdown",
   "metadata": {},
   "source": [
    "For every match where 'GER' scored, show matchid, match date and the number of goals scored by 'GER'"
   ]
  },
  {
   "cell_type": "code",
   "execution_count": null,
   "metadata": {},
   "outputs": [],
   "source": [
    "SELECT matchid, mdate, COUNT(gtime>0) AS goal from game\n",
    "JOIN goal ON (matchid = id)\n",
    "WHERE teamid = 'GER'\n",
    "GROUP BY matchid, mdate"
   ]
  },
  {
   "cell_type": "markdown",
   "metadata": {},
   "source": [
    "Notice in the query given every goal is listed. If it was a team1 goal then a 1 appears in score1, otherwise there is a 0. You could SUM this column to get a count of the goals scored by team1. Sort your result by mdate, matchid, team1 and team2."
   ]
  },
  {
   "cell_type": "code",
   "execution_count": null,
   "metadata": {},
   "outputs": [],
   "source": [
    "SELECT mdate, team1,\n",
    "SUM(CASE WHEN teamid = team1 THEN 1 ELSE 0 END) AS score1,\n",
    "team2,\n",
    "SUM(CASE WHEN teamid = team2 THEN 1 ELSE 0 END) AS score2 from game\n",
    "LEFT JOIN goal ON (game.id = goal.matchid)\n",
    "GROUP BY mdate, team1, team2"
   ]
  }
 ],
 "metadata": {
  "kernelspec": {
   "display_name": "Python 2",
   "language": "python",
   "name": "python2"
  },
  "language_info": {
   "codemirror_mode": {
    "name": "ipython",
    "version": 2
   },
   "file_extension": ".py",
   "mimetype": "text/x-python",
   "name": "python",
   "nbconvert_exporter": "python",
   "pygments_lexer": "ipython2",
   "version": "2.7.14"
  }
 },
 "nbformat": 4,
 "nbformat_minor": 2
}
